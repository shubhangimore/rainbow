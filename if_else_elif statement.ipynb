{
 "cells": [
  {
   "cell_type": "code",
   "execution_count": 5,
   "metadata": {},
   "outputs": [
    {
     "name": "stdout",
     "output_type": "stream",
     "text": [
      "i will make some chocolates\n"
     ]
    }
   ],
   "source": [
    "buy = False\n",
    "\n",
    "if buy:\n",
    "    print('i buy some chocolates')\n",
    " \n",
    "else:\n",
    "    print('i will make some chocolates')"
   ]
  },
  {
   "cell_type": "code",
   "execution_count": 8,
   "metadata": {},
   "outputs": [
    {
     "name": "stdout",
     "output_type": "stream",
     "text": [
      "i don't know exactly!\n"
     ]
    }
   ],
   "source": [
    "name = 'shubhangi'\n",
    "\n",
    "if name == 'avyukta':\n",
    "    print('her name is nice')\n",
    "    \n",
    "else:\n",
    "    print(\"i don't know exactly!\")"
   ]
  },
  {
   "cell_type": "code",
   "execution_count": 12,
   "metadata": {},
   "outputs": [
    {
     "name": "stdout",
     "output_type": "stream",
     "text": [
      "every place is nice in europe!\n"
     ]
    }
   ],
   "source": [
    "place = 'spane'\n",
    "\n",
    "if place == 'germany':\n",
    "    print(\"germany is very cool!\")\n",
    "    \n",
    "elif place == 'scotland':\n",
    "    print(\"scotland is very nice!\")\n",
    "\n",
    "else:\n",
    "    print(\"every place is nice in europe!\")\n"
   ]
  },
  {
   "cell_type": "code",
   "execution_count": null,
   "metadata": {},
   "outputs": [],
   "source": []
  }
 ],
 "metadata": {
  "kernelspec": {
   "display_name": "Python 3",
   "language": "python",
   "name": "python3"
  },
  "language_info": {
   "codemirror_mode": {
    "name": "ipython",
    "version": 3
   },
   "file_extension": ".py",
   "mimetype": "text/x-python",
   "name": "python",
   "nbconvert_exporter": "python",
   "pygments_lexer": "ipython3",
   "version": "3.7.3"
  }
 },
 "nbformat": 4,
 "nbformat_minor": 2
}
